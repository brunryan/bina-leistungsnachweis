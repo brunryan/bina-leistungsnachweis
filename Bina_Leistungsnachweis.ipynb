{
  "nbformat": 4,
  "nbformat_minor": 0,
  "metadata": {
    "anaconda-cloud": {},
    "kernelspec": {
      "display_name": "Python 3",
      "language": "python",
      "name": "python3"
    },
    "language_info": {
      "codemirror_mode": {
        "name": "ipython",
        "version": 3
      },
      "file_extension": ".py",
      "mimetype": "text/x-python",
      "name": "python",
      "nbconvert_exporter": "python",
      "pygments_lexer": "ipython3",
      "version": "3.5.1"
    },
    "colab": {
      "provenance": []
    }
  },
  "cells": [
    {
      "cell_type": "markdown",
      "metadata": {
        "id": "QE8ZIr8b62R-"
      },
      "source": [
        "# BINA Leistungsnachweis\n",
        "##Gruppe Francesca, Joris, Manuel & Ryan\n",
        "\n",
        "***Step 0*** – Wie schneidet die Schweiz im Vergleich zu anderen Nationen im OECD Better Life Index ab und welche Faktoren beeinflussen das Ergebnis der Schweiz?  \n",
        "\n",
        "Im Rahmen der Arbeit möchten wir untersuchen, wie die Schweiz im Vergleich zu anderen Ländern im OECD Better Life Index abschneidet.\n",
        "\n",
        "Dabei wird untersucht, wo sich die Schweiz in den untersuchten Jahren positioniert hat und welche Faktoren ein vermeintlich besseres oder schlechteres Abschneiden zum Vorjahr respektive zu den anderen Ländern beeinflussen. Abschliessend können darauf mögliche Massnahmen definiert werden.\n",
        "\n"
      ]
    },
    {
      "cell_type": "markdown",
      "source": [],
      "metadata": {
        "id": "CzHXpJLI7gVE"
      }
    },
    {
      "cell_type": "markdown",
      "source": [
        "**Step 1** – Defining objectives and information needs:  \n",
        "\n",
        "**Problemdefinition:**\n",
        "\n",
        "Trotz des hohen Lebensstandards in der Schweiz und vielen Ländern der Europäischen Union (EU) variieren die Niveaus der Lebenszufriedenheit innerhalb dieser Regionen erheblich. Während finanzielle Sicherheit, Gesundheitsversorgung und Bildung oft als Kernindikatoren für Lebensqualität angesehen werden, gibt es eine Reihe weiterer Faktoren, die das Wohlbefinden und die Lebenszufriedenheit der Einwohner:innen beeinflussen können. Zu diesen Faktoren gehören soziale Beziehungen, Arbeitsbedingungen, Work-Life-Balance, Umweltqualität und persönliche Freiheiten. Es ist wichtig zu verstehen, welche Aspekte den grössten Einfluss auf die Lebenszufriedenheit haben, um politische und gesellschaftliche Massnahmen zu entwickeln, die das allgemeine Wohlbefinden fördern.\n",
        "\n",
        "**Hypothesen:**\n",
        "\n",
        "\n",
        "**Ziel der Untersuchung:**\n",
        "\n",
        "Das Ziel ist es, zu verstehen, welche Faktoren die grösste Rolle in der Lebenszufriedenheit der Menschen in der Schweiz und der EU spielen und wie politische Massnahmen gestaltet werden können, um das Wohlbefinden zu verbessern. Es soll auch untersucht werden, welche Best Practices aus anderen Ländern übernommen werden können, um die Lebenszufriedenheit in der Schweiz weiter zu steigern.\n",
        "\n",
        "**Vorgehen**\n",
        "\n",
        "Benchmarking: Um die Positionierung und deren Entwicklung der Schweiz in ein Verhältnis zu setzen wird ein Benchmark erstellt. Daraus wird ersichtlich wo die Schweiz zum Zeitpunkt des Untersuchungsstart positioniert ist und wie sich die Positionierung im Laufe der Zeit verändert hat.\n",
        "\n",
        "Untersuchung Benchmarking: Das erstellte Benchmarking wird anschliessend auf Auffälligkeiten untersucht. Jahre, in der die Schweiz vom Benchmark positiv sowie negativ auffällt, werden im Schritt drei genauer analysiert.\n",
        "\n",
        "Auffälligkeiten untersuchen: Um herauszufinden, weshalb die Schweiz in einigen Jahren besser oder schlechter als der Benchmark abgeschnitten hat, werden die Daten des Bundesamtes für Statistik (BFS) im Zusammenhang mit der Zufriedenheit der Schweiz untersucht. Dabei werden die Jahre des auffälligen Abschneidens sowie die hervorgehenden Jahre berücksichtigt.\n",
        "\n",
        "**What are our strategic aims?**\n",
        "\n",
        "Welche Faktoren führten zu besonders guten oder schlechten Ergebnissen im OECD Better Life Index und was kann politisch sowie gesellschaftilch unternommen werden, um die Lebensqualität der Schweizer:innen zu erhöhen?\n",
        "\n",
        "**What do we need to know and what questions need to be anwesered?**\n",
        "\n",
        "Wie verändert sich die subjektive Wahrnehmung der Lebensqualität während des Untersuchungszeitraum in der Schweiz sowie den Teilnehmenden des OECD Better Life Indexes?\n",
        "\n",
        "**Wie steht die Schweiz da im internationalen Vergleich (EU-Länder)?**\n",
        "\n",
        "**Welche Faktoren waren ausschlaggebend für auffällige Resultate?**\n",
        "\n",
        "\n",
        "\n",
        "**Who needs the information (leadership or business units)?**\n",
        "\n",
        "Business Unit Level: Stadtplanung Behörde / Politik\n",
        "Die Daten werden verwendet, um die städtische Entwicklung und Infrastrukturprojekte zu leiten, mi dem Ziel, die Lebensqualität zu verbessern.  \n",
        "\n",
        "**What decision needs to be taken?**\n"
      ],
      "metadata": {
        "id": "VhAsOY4I6W5j"
      }
    },
    {
      "cell_type": "markdown",
      "source": [
        "**Step 2 – Collecting Data**\n",
        "\n",
        "OECD Better Life Index-Daten\n",
        "\n",
        "BFS-Daten  \n",
        "\n",
        "Gathering and organising the right data. Emphasis on finding meaningful and relevant data to meet the information needs identified in Step 1. Organisations need to either:\n",
        "\n",
        "Assess whether the required data is already held somewhere in the organisation\n",
        "\n",
        "Identify the best way to collect the data\n",
        "\n",
        "**2.1 Supporting internal data with external data > provide internal & external**\n",
        "\n",
        "**2.2 Balancing structured data (excel) with unstructured data (website, social media, video content)**\n",
        "\n",
        "**2.3 Identifying data collection formats (activity data, conversation data, photo and video data, sensor data)**"
      ],
      "metadata": {
        "id": "q7gqqn0b6afy"
      }
    },
    {
      "cell_type": "code",
      "source": [
        "import pandas as pd\n",
        "import tempfile\n",
        "import os\n",
        "\n",
        "#csv_url = 'https://raw.githubusercontent.com/brunryan/bina-leistungsnachweis/main/oecd_data_2007bis2022.csv'\n",
        "csv_url = 'https://raw.githubusercontent.com/brunryan/bina-leistungsnachweis/main/ryan_test.csv'\n",
        "df = pd.read_csv(csv_url, delimiter=';')\n",
        "\n",
        "# using unique measurements (e.g. 1_1, 1_2 etc.)\n",
        "raw_categories = df['MEASURE'].unique()\n",
        "categories = [x for x in raw_categories if str(x) != 'nan'] #removed coutnry \"nan\" from list\n",
        "# reverse ranking means that a measurement with a small value has a higher ranking than one with a large value\n",
        "categories_reverse_ranking = [\"1_2\"]\n",
        "                              #, \"2_8_VER\", \"11_1_VER\", \"7_3_VER\", \"4_4_VER\",\n",
        "                              #\"2_5\", \"3_1\", \"3_3\", \"3_4\", \"2_3\", \"1_4\",\"1_5\",\n",
        "                              #\"1_6\", \"9_2\", \"usw.\"] #TODO: List fertig machen! Alle durchgehen\n",
        "\n",
        "categories_transform_to_rating = [\"1_1\", \"1_3\", \"2_8\"]\n",
        "\n",
        "category_rules = {}\n",
        "all_category_rankings = []\n",
        "\n",
        "temp_dir = tempfile.mkdtemp()\n",
        "\n",
        "for category in categories:\n",
        "  category_df = df[df['MEASURE'] == category]\n",
        "  #------------------------------------------------------------------\n",
        "  # write temp. files for eventual checks\n",
        "  temp_file_path = os.path.join(temp_dir, f'{category}.csv')\n",
        "  category_df.to_csv(temp_file_path, index=False)\n",
        "  #print(f\"Data for category {category} written to {temp_file_path}\")\n",
        "  #------------------------------------------------------------------\n",
        "\n",
        "  country_means = {}\n",
        "  countries = df['Reference area'].unique()\n",
        "  # collect means of each country per measurement\n",
        "  for country in countries:\n",
        "    country_df = df[df['Reference area'] == country]\n",
        "    avg_value = country_df['OBS_VALUE'].mean()\n",
        "\n",
        "    country_means[country] = avg_value\n",
        "\n",
        "  average_values = list(country_means.values())\n",
        "\n",
        "  # get min and max per measurement\n",
        "  min_value = min(average_values)\n",
        "  max_value = max(average_values)\n",
        "  if category in categories_reverse_ranking:\n",
        "    category_rules[category] = {'min': max_value, 'max': min_value}\n",
        "  else:\n",
        "    category_rules[category] = {'min': min_value, 'max': max_value}\n",
        "\n",
        "  # calculate ranking in measurement and add to overall list\n",
        "  measurement_ranking = []\n",
        "  if category in categories_transform_to_rating:\n",
        "    for keys, values in country_means.items():\n",
        "      ranking = (values-min_value) / (max_value-min_value)*9+1\n",
        "      measurement_ranking.append({keys, ranking})\n",
        "\n",
        "  all_category_rankings.append({category:measurement_ranking})\n",
        "\n",
        "print(all_category_rankings)"
      ],
      "metadata": {
        "id": "6jv_Wdzh7yd7",
        "colab": {
          "base_uri": "https://localhost:8080/"
        },
        "outputId": "fddeee24-097f-4d86-b572-966bc5dd1b5a"
      },
      "execution_count": 83,
      "outputs": [
        {
          "output_type": "stream",
          "name": "stdout",
          "text": [
            "[{'1_1': [{'Germany', 6.93715272974969}, {'Belgium', 6.333663911558145}, {'Poland', 2.21860442052682}, {1.0, 'Latvia'}, {'Finland', 5.723668791936675}, {'Netherlands', 6.191112491420189}, {'France', 6.13600858111476}, {8.46110703687948, 'Switzerland'}, {4.512815560839007, 'Ireland'}, {1.8336756557845537, 'Estonia'}, {'Norway', 6.989179652736275}, {4.77210459147056, 'Italy'}, {'Hungary', 1.6041699833231982}, {4.003468461532439, 'Spain'}, {3.005725962830828, 'Czechia'}, {'Denmark', 5.441079216112034}, {'Austria', 7.129758042837718}, {'United Kingdom', 5.365587328762654}, {2.251958023524989, 'Slovak Republic'}, {2.654174289539548, 'Lithuania'}, {2.5120691500050896, 'Greece'}, {10.0, 'Luxembourg'}, {3.0280634814584766, 'Portugal'}, {'Slovenia', 2.9409917868709985}, {'Sweden', 6.011872107984246}, {nan, nan}]}]\n"
          ]
        }
      ]
    },
    {
      "cell_type": "code",
      "source": [],
      "metadata": {
        "id": "f1wrDHtBerWm"
      },
      "execution_count": 61,
      "outputs": []
    },
    {
      "cell_type": "markdown",
      "source": [
        "**Step 3 – Analysing data:**\n",
        "\n",
        "Once the right data has been collected, it must be turned into insights. To do this, the data must be analysed to extract information.\n",
        "\n",
        "**3.1 Looking at the different analytics option (correlation, regression, data mining, text analytics, image analytics, sound and voice analytics, sentiment analysis, AI and advanced analytics, augmented analytics)**\n",
        "\n",
        "**3.2 Combining analytics for maximum effect > work with 2 techniques.**"
      ],
      "metadata": {
        "id": "L17OnWuG7iDz"
      }
    },
    {
      "cell_type": "markdown",
      "source": [
        "**Step 4 – Presenting information:**  \n",
        "\n",
        "This is about communicating the information extracted. the focus here is on getting the right information, in the right format, to the right people, at the right time.\n",
        "\n",
        "**4.1 Decide what type of report (frequency, outlet, and how to show the data)**\n",
        "\n",
        "**4.2 Starting with the question**\n",
        "\n",
        "**4.3 Using headlines**\n",
        "\n",
        "**4.4 Using effective visuals**\n",
        "\n",
        "**4.5 Using narratives to support visuals**\n",
        "\n",
        "**4.6 Getting the most out of self-service tools**"
      ],
      "metadata": {
        "id": "TZbk3Zie7o8D"
      }
    }
  ]
}