{
  "nbformat": 4,
  "nbformat_minor": 0,
  "metadata": {
    "anaconda-cloud": {},
    "kernelspec": {
      "display_name": "Python 3",
      "language": "python",
      "name": "python3"
    },
    "language_info": {
      "codemirror_mode": {
        "name": "ipython",
        "version": 3
      },
      "file_extension": ".py",
      "mimetype": "text/x-python",
      "name": "python",
      "nbconvert_exporter": "python",
      "pygments_lexer": "ipython3",
      "version": "3.5.1"
    },
    "colab": {
      "provenance": []
    }
  },
  "cells": [
    {
      "cell_type": "markdown",
      "metadata": {
        "id": "QE8ZIr8b62R-"
      },
      "source": [
        "# BINA Leistungsnachweis\n",
        "##Gruppe Francesca, Joris, Manuel & Ryan\n",
        "\n",
        "***Step 0*** – Wie schneidet die Schweiz im Vergleich zu anderen Nationen im OECD Better Life Index ab und welche Faktoren beeinflussen das Ergebnis der Schweiz?  \n",
        "\n",
        "Im Rahmen der Arbeit möchten wir untersuchen, wie die Schweiz im Vergleich zu anderen Ländern im OECD Better Life Index abschneidet.\n",
        "\n",
        "Dabei wird untersucht, wo sich die Schweiz in den untersuchten Jahren positioniert hat und welche Faktoren ein vermeintlich besseres oder schlechteres Abschneiden zum Vorjahr respektive zu den anderen Ländern beeinflussen. Abschliessend können darauf mögliche Massnahmen definiert werden.\n",
        "\n"
      ]
    },
    {
      "cell_type": "markdown",
      "source": [],
      "metadata": {
        "id": "CzHXpJLI7gVE"
      }
    },
    {
      "cell_type": "markdown",
      "source": [
        "**Step 1** – Defining objectives and information needs:  \n",
        "\n",
        "**Problemdefinition:**\n",
        "\n",
        "Trotz des hohen Lebensstandards in der Schweiz und vielen Ländern der Europäischen Union (EU) variieren die Niveaus der Lebenszufriedenheit innerhalb dieser Regionen erheblich. Während finanzielle Sicherheit, Gesundheitsversorgung und Bildung oft als Kernindikatoren für Lebensqualität angesehen werden, gibt es eine Reihe weiterer Faktoren, die das Wohlbefinden und die Lebenszufriedenheit der Einwohner:innen beeinflussen können. Zu diesen Faktoren gehören soziale Beziehungen, Arbeitsbedingungen, Work-Life-Balance, Umweltqualität und persönliche Freiheiten. Es ist wichtig zu verstehen, welche Aspekte den grössten Einfluss auf die Lebenszufriedenheit haben, um politische und gesellschaftliche Massnahmen zu entwickeln, die das allgemeine Wohlbefinden fördern.\n",
        "\n",
        "**Hypothesen:**\n",
        "\n",
        "\n",
        "**Ziel der Untersuchung:**\n",
        "\n",
        "Das Ziel ist es, zu verstehen, welche Faktoren die grösste Rolle in der Lebenszufriedenheit der Menschen in der Schweiz und der EU spielen und wie politische Massnahmen gestaltet werden können, um das Wohlbefinden zu verbessern. Es soll auch untersucht werden, welche Best Practices aus anderen Ländern übernommen werden können, um die Lebenszufriedenheit in der Schweiz weiter zu steigern.\n",
        "\n",
        "**Vorgehen**\n",
        "\n",
        "Benchmarking: Um die Positionierung und deren Entwicklung der Schweiz in ein Verhältnis zu setzen wird ein Benchmark erstellt. Daraus wird ersichtlich wo die Schweiz zum Zeitpunkt des Untersuchungsstart positioniert ist und wie sich die Positionierung im Laufe der Zeit verändert hat.\n",
        "\n",
        "Untersuchung Benchmarking: Das erstellte Benchmarking wird anschliessend auf Auffälligkeiten untersucht. Jahre, in der die Schweiz vom Benchmark positiv sowie negativ auffällt, werden im Schritt drei genauer analysiert.\n",
        "\n",
        "Auffälligkeiten untersuchen: Um herauszufinden, weshalb die Schweiz in einigen Jahren besser oder schlechter als der Benchmark abgeschnitten hat, werden die Daten des Bundesamtes für Statistik (BFS) im Zusammenhang mit der Zufriedenheit der Schweiz untersucht. Dabei werden die Jahre des auffälligen Abschneidens sowie die hervorgehenden Jahre berücksichtigt.\n",
        "\n",
        "**What are our strategic aims?**\n",
        "\n",
        "Welche Faktoren führten zu besonders guten oder schlechten Ergebnissen im OECD Better Life Index und was kann politisch sowie gesellschaftilch unternommen werden, um die Lebensqualität der Schweizer:innen zu erhöhen?\n",
        "\n",
        "**What do we need to know and what questions need to be anwesered?**\n",
        "\n",
        "Wie verändert sich die subjektive Wahrnehmung der Lebensqualität während des Untersuchungszeitraum in der Schweiz sowie den Teilnehmenden des OECD Better Life Indexes?\n",
        "\n",
        "**Wie steht die Schweiz da im internationalen Vergleich (EU-Länder)?**\n",
        "\n",
        "**Welche Faktoren waren ausschlaggebend für auffällige Resultate?**\n",
        "\n",
        "\n",
        "\n",
        "**Who needs the information (leadership or business units)?**\n",
        "\n",
        "Business Unit Level: Stadtplanung Behörde / Politik\n",
        "Die Daten werden verwendet, um die städtische Entwicklung und Infrastrukturprojekte zu leiten, mi dem Ziel, die Lebensqualität zu verbessern.  \n",
        "\n",
        "**What decision needs to be taken?**\n"
      ],
      "metadata": {
        "id": "VhAsOY4I6W5j"
      }
    },
    {
      "cell_type": "markdown",
      "source": [
        "**Step 2 – Collecting Data**\n",
        "\n",
        "OECD Better Life Index-Daten\n",
        "\n",
        "BFS-Daten  \n",
        "\n",
        "Gathering and organising the right data. Emphasis on finding meaningful and relevant data to meet the information needs identified in Step 1. Organisations need to either:\n",
        "\n",
        "Assess whether the required data is already held somewhere in the organisation\n",
        "\n",
        "Identify the best way to collect the data\n",
        "\n",
        "**2.1 Supporting internal data with external data > provide internal & external**\n",
        "\n",
        "**2.2 Balancing structured data (excel) with unstructured data (website, social media, video content)**\n",
        "\n",
        "**2.3 Identifying data collection formats (activity data, conversation data, photo and video data, sensor data)**"
      ],
      "metadata": {
        "id": "q7gqqn0b6afy"
      }
    },
    {
      "cell_type": "code",
      "source": [
        "import pandas as pd\n",
        "import tempfile\n",
        "import os\n",
        "\n",
        "csv_url = 'https://raw.githubusercontent.com/brunryan/bina-leistungsnachweis/main/oecd_data_2007bis2022.csv'\n",
        "#csv_url = 'https://raw.githubusercontent.com/brunryan/bina-leistungsnachweis/main/ryan_test.csv'\n",
        "df = pd.read_csv(csv_url, delimiter=';')\n",
        "\n",
        "# using unique measurements (e.g. 1_1, 1_2 etc.)\n",
        "categories = df['MEASURE'].unique()\n",
        "\n",
        "category_rules = {}\n",
        "\n",
        "temp_dir = tempfile.mkdtemp()\n",
        "\n",
        "for category in categories:\n",
        "  category_df = df[df['MEASURE'] == category]\n",
        "\n",
        "  # Calculate min and max values for the current category and adding them to the rules-list\n",
        "  min_value = category_df['OBS_VALUE'].min()\n",
        "  max_value = category_df['OBS_VALUE'].max()\n",
        "  category_rules[category] = {'min': min_value, 'max': max_value}\n",
        "\n",
        "  # write temp. files for eventual checks\n",
        "  temp_file_path = os.path.join(temp_dir, f'{category}.csv')\n",
        "  category_df.to_csv(temp_file_path, index=False)\n",
        "  #print(f\"Data for category {category} written to {temp_file_path}\")\n",
        "\n",
        "print(category_rules)\n"
      ],
      "metadata": {
        "id": "6jv_Wdzh7yd7",
        "colab": {
          "base_uri": "https://localhost:8080/"
        },
        "outputId": "6fbb0151-cbfb-4719-ae81-9f59cec9ffdf"
      },
      "execution_count": 43,
      "outputs": [
        {
          "output_type": "stream",
          "name": "stdout",
          "text": [
            "{'1_1': {'min': '12979.0000', 'max': '45162.0000'}, '1_2': {'min': '3.2000', 'max': '8.2000'}, '1_3': {'min': '101338.0000', 'max': '96009.0000'}, '1_3_VER': {'min': '32.7830', 'max': '69.8425'}, '1_4': {'min': '10.0000', 'max': '9.9000'}, '1_5': {'min': '10.0000', 'max': '9.9000'}, '1_6': {'min': '14.0000', 'max': '83.2300'}, '10_1': {'min': '0.1000', 'max': '8.6000'}, '10_2': {'min': '28.6513', 'max': '93.2353'}, '10_2_DEP': {'min': '10.3191', 'max': '9.9471'}, '10_3': {'min': '1.2282', 'max': '9.9150'}, '11_1': {'min': '5.7000', 'max': '8.1226'}, '11_1_DEP': {'min': '1.9425', 'max': '9.7424'}, '11_1_VER': {'min': '1.5442', 'max': '3.8349'}, '11_2': {'min': '10.0010', 'max': '9.9968'}, '2_1': {'min': '49.2698', 'max': '87.0233'}, '2_2': {'min': '0.9917', 'max': '9.980806142'}, '2_3': {'min': '0.155193439', 'max': '9.819875025'}, '2_4': {'min': '10.036972', 'max': '9.9485598'}, '2_5': {'min': '0.986737013', 'max': '9.919524193'}, '2_6': {'min': '13.82954311', 'max': '59.37656403'}, '2_7': {'min': '0.009472559', 'max': '9.768257575'}, '2_8': {'min': '18738', 'max': '73657'}, '2_8_DEP': {'min': '0.69348659', 'max': '9.966666667'}, '2_8_VER': {'min': '2.03626943', 'max': '5.168358914'}, '3_1': {'min': '0.765710557', 'max': '9.949997067'}, '3_2': {'min': '68.98297584', 'max': '83.26187081'}, '3_3': {'min': '10.04553735', 'max': '9.992728382'}, '3_4': {'min': '0', 'max': '9.601120651'}, '3_5': {'min': '16.5457', 'max': '98’557'}, '4_1': {'min': '14.506293', 'max': '16.5977'}, '4_2': {'min': '10.0221', 'max': '7.5'}, '4_3': {'min': '-23.68139648', 'max': '9.676695824'}, '4_4': {'min': '5.547764372', 'max': '7.894635647'}, '4_4_DEP': {'min': '11.65448443', 'max': '50.97054238'}, '4_4_VER': {'min': '1.563161914', 'max': '4.561872027'}, '5_1': {'min': '70.7', 'max': '84'}, '5_2': {'min': '42.5', 'max': '84.3'}, '5_2_DEP': {'min': '10', 'max': '9.9'}, '5_3': {'min': '10.23105907', 'max': '9.827079773'}, '5_4': {'min': '10.1', 'max': '9.4'}, '6_1': {'min': '428.3350926', 'max': '535.8779845'}, '6_1_DEP': {'min': '10.49019763', 'max': '9.158704063'}, '6_1_VER': {'min': '1.593898535', 'max': '2.121311903'}, '6_2': {'min': '420.4539795', 'max': '540.5043482'}, '6_2_DEP': {'min': '10.49019763', 'max': '9.158704063'}, '6_2_VER': {'min': '1.497943401', 'max': '1.904004455'}, '6_3': {'min': '425.4895089', 'max': '554.0795098'}, '6_3_DEP': {'min': '10.49019763', 'max': '9.158704063'}, '6_3_VER': {'min': '1.544665933', 'max': '1.934093475'}, '6_4': {'min': '219.43004', 'max': '282.22661'}, '6_4_DEP': {'min': '10.302923', 'max': '9.9017519'}, '6_4_VER': {'min': '1.507938743', 'max': '1.983121395'}, '6_5': {'min': '226.54404', 'max': '287.5457'}, '6_5_DEP': {'min': '2.2860016', 'max': '6.9897669'}, '6_5_VER': {'min': '1.44892025', 'max': '1.757586837'}, '7_1': {'min': '63.95469676', 'max': '98.49400346'}, '7_1_DEP': {'min': '1.505996537', 'max': '9.963752721'}, '7_2': {'min': '3.85', 'max': '9.4723095'}, '7_3': {'min': '7.01099895', 'max': '8.676489449'}, '7_3_DEP': {'min': '10.27524058', 'max': '9.98305724'}, '7_3_VER': {'min': '1.488189876', 'max': '2.610426728'}, '8_1': {'min': '12.66255082', 'max': '9.557004777'}, '8_1_DEP': {'min': '13.69820015', 'max': '72.93461596'}, '8_2': {'min': '45.12', 'max': '91.15'}, '9_1': {'min': '37.66362881', 'max': '94.43531491'}, '9_2': {'min': '0', 'max': '99’999'}, nan: {'min': nan, 'max': nan}}\n"
          ]
        }
      ]
    },
    {
      "cell_type": "code",
      "source": [],
      "metadata": {
        "id": "f1wrDHtBerWm"
      },
      "execution_count": null,
      "outputs": []
    },
    {
      "cell_type": "markdown",
      "source": [
        "**Step 3 – Analysing data:**\n",
        "\n",
        "Once the right data has been collected, it must be turned into insights. To do this, the data must be analysed to extract information.\n",
        "\n",
        "**3.1 Looking at the different analytics option (correlation, regression, data mining, text analytics, image analytics, sound and voice analytics, sentiment analysis, AI and advanced analytics, augmented analytics)**\n",
        "\n",
        "**3.2 Combining analytics for maximum effect > work with 2 techniques.**"
      ],
      "metadata": {
        "id": "L17OnWuG7iDz"
      }
    },
    {
      "cell_type": "markdown",
      "source": [
        "**Step 4 – Presenting information:**  \n",
        "\n",
        "This is about communicating the information extracted. the focus here is on getting the right information, in the right format, to the right people, at the right time.\n",
        "\n",
        "**4.1 Decide what type of report (frequency, outlet, and how to show the data)**\n",
        "\n",
        "**4.2 Starting with the question**\n",
        "\n",
        "**4.3 Using headlines**\n",
        "\n",
        "**4.4 Using effective visuals**\n",
        "\n",
        "**4.5 Using narratives to support visuals**\n",
        "\n",
        "**4.6 Getting the most out of self-service tools**"
      ],
      "metadata": {
        "id": "TZbk3Zie7o8D"
      }
    }
  ]
}