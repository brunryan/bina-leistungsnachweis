{
  "nbformat": 4,
  "nbformat_minor": 0,
  "metadata": {
    "anaconda-cloud": {},
    "kernelspec": {
      "display_name": "Python 3",
      "language": "python",
      "name": "python3"
    },
    "language_info": {
      "codemirror_mode": {
        "name": "ipython",
        "version": 3
      },
      "file_extension": ".py",
      "mimetype": "text/x-python",
      "name": "python",
      "nbconvert_exporter": "python",
      "pygments_lexer": "ipython3",
      "version": "3.5.1"
    },
    "colab": {
      "provenance": []
    }
  },
  "cells": [
    {
      "cell_type": "markdown",
      "metadata": {
        "id": "QE8ZIr8b62R-"
      },
      "source": [
        "# BINA Leistungsnachweis\n",
        "##Gruppe Francesca, Joris, Manuel & Ryan\n",
        "\n",
        "***Step 0*** – Wie schneidet die Schweiz im Vergleich zu anderen Nationen im OECD Better Life Index ab und welche Faktoren beeinflussen das Ergebnis der Schweiz?  \n",
        "\n",
        "Im Rahmen der Arbeit möchten wir untersuchen, wie die Schweiz im Vergleich zu anderen Ländern im OECD Better Life Index abschneidet.\n",
        "\n",
        "Dabei wird untersucht, wo sich die Schweiz in den untersuchten Jahren positioniert hat und welche Faktoren ein vermeintlich besseres oder schlechteres Abschneiden zum Vorjahr respektive zu den anderen Ländern beeinflussen. Abschliessend können darauf mögliche Massnahmen definiert werden.\n",
        "\n"
      ]
    },
    {
      "cell_type": "markdown",
      "source": [],
      "metadata": {
        "id": "CzHXpJLI7gVE"
      }
    },
    {
      "cell_type": "markdown",
      "source": [
        "**Step 1** – Defining objectives and information needs:  \n",
        "\n",
        "**Problemdefinition:**\n",
        "\n",
        "Trotz des hohen Lebensstandards in der Schweiz und vielen Ländern der Europäischen Union (EU) variieren die Niveaus der Lebenszufriedenheit innerhalb dieser Regionen erheblich. Während finanzielle Sicherheit, Gesundheitsversorgung und Bildung oft als Kernindikatoren für Lebensqualität angesehen werden, gibt es eine Reihe weiterer Faktoren, die das Wohlbefinden und die Lebenszufriedenheit der Einwohner:innen beeinflussen können. Zu diesen Faktoren gehören soziale Beziehungen, Arbeitsbedingungen, Work-Life-Balance, Umweltqualität und persönliche Freiheiten. Es ist wichtig zu verstehen, welche Aspekte den grössten Einfluss auf die Lebenszufriedenheit haben, um politische und gesellschaftliche Massnahmen zu entwickeln, die das allgemeine Wohlbefinden fördern.\n",
        "\n",
        "**Hypothesen:**\n",
        "\n",
        "\n",
        "**Ziel der Untersuchung:**\n",
        "\n",
        "Das Ziel ist es, zu verstehen, welche Faktoren die grösste Rolle in der Lebenszufriedenheit der Menschen in der Schweiz und der EU spielen und wie politische Massnahmen gestaltet werden können, um das Wohlbefinden zu verbessern. Es soll auch untersucht werden, welche Best Practices aus anderen Ländern übernommen werden können, um die Lebenszufriedenheit in der Schweiz weiter zu steigern.\n",
        "\n",
        "**Vorgehen**\n",
        "\n",
        "Benchmarking: Um die Positionierung und deren Entwicklung der Schweiz in ein Verhältnis zu setzen wird ein Benchmark erstellt. Daraus wird ersichtlich wo die Schweiz zum Zeitpunkt des Untersuchungsstart positioniert ist und wie sich die Positionierung im Laufe der Zeit verändert hat.\n",
        "\n",
        "Untersuchung Benchmarking: Das erstellte Benchmarking wird anschliessend auf Auffälligkeiten untersucht. Jahre, in der die Schweiz vom Benchmark positiv sowie negativ auffällt, werden im Schritt drei genauer analysiert.\n",
        "\n",
        "Auffälligkeiten untersuchen: Um herauszufinden, weshalb die Schweiz in einigen Jahren besser oder schlechter als der Benchmark abgeschnitten hat, werden die Daten des Bundesamtes für Statistik (BFS) im Zusammenhang mit der Zufriedenheit der Schweiz untersucht. Dabei werden die Jahre des auffälligen Abschneidens sowie die hervorgehenden Jahre berücksichtigt.\n",
        "\n",
        "**What are our strategic aims?**\n",
        "\n",
        "Welche Faktoren führten zu besonders guten oder schlechten Ergebnissen im OECD Better Life Index und was kann politisch sowie gesellschaftilch unternommen werden, um die Lebensqualität der Schweizer:innen zu erhöhen?\n",
        "\n",
        "**What do we need to know and what questions need to be anwesered?**\n",
        "\n",
        "Wie verändert sich die subjektive Wahrnehmung der Lebensqualität während des Untersuchungszeitraum in der Schweiz sowie den Teilnehmenden des OECD Better Life Indexes?\n",
        "\n",
        "**Wie steht die Schweiz da im internationalen Vergleich (EU-Länder)?**\n",
        "\n",
        "**Welche Faktoren waren ausschlaggebend für auffällige Resultate?**\n",
        "\n",
        "\n",
        "\n",
        "**Who needs the information (leadership or business units)?**\n",
        "\n",
        "Business Unit Level: Stadtplanung Behörde / Politik\n",
        "Die Daten werden verwendet, um die städtische Entwicklung und Infrastrukturprojekte zu leiten, mi dem Ziel, die Lebensqualität zu verbessern.  \n",
        "\n",
        "**What decision needs to be taken?**\n"
      ],
      "metadata": {
        "id": "VhAsOY4I6W5j"
      }
    },
    {
      "cell_type": "markdown",
      "source": [
        "**Step 2 – Collecting Data**\n",
        "\n",
        "OECD Better Life Index-Daten\n",
        "\n",
        "BFS-Daten  \n",
        "\n",
        "Gathering and organising the right data. Emphasis on finding meaningful and relevant data to meet the information needs identified in Step 1. Organisations need to either:\n",
        "\n",
        "Assess whether the required data is already held somewhere in the organisation\n",
        "\n",
        "Identify the best way to collect the data\n",
        "\n",
        "**2.1 Supporting internal data with external data > provide internal & external**\n",
        "\n",
        "**2.2 Balancing structured data (excel) with unstructured data (website, social media, video content)**\n",
        "\n",
        "**2.3 Identifying data collection formats (activity data, conversation data, photo and video data, sensor data)**"
      ],
      "metadata": {
        "id": "q7gqqn0b6afy"
      }
    },
    {
      "cell_type": "code",
      "source": [
        "# library imports\n",
        "import matplotlib.pyplot as plt\n",
        "plt.style.use('classic')\n",
        "%matplotlib inline\n",
        "import numpy as np\n",
        "import pandas as pd\n",
        "import seaborn as sns\n",
        "sns.set()"
      ],
      "metadata": {
        "id": "6jv_Wdzh7yd7"
      },
      "execution_count": 1,
      "outputs": []
    },
    {
      "cell_type": "markdown",
      "source": [
        "**Step 3 – Analysing data:**\n",
        "\n",
        "Once the right data has been collected, it must be turned into insights. To do this, the data must be analysed to extract information.\n",
        "\n",
        "**3.1 Looking at the different analytics option (correlation, regression, data mining, text analytics, image analytics, sound and voice analytics, sentiment analysis, AI and advanced analytics, augmented analytics)**\n",
        "\n",
        "**3.2 Combining analytics for maximum effect > work with 2 techniques.**"
      ],
      "metadata": {
        "id": "L17OnWuG7iDz"
      }
    },
    {
      "cell_type": "markdown",
      "source": [
        "**Step 4 – Presenting information:**  \n",
        "\n",
        "This is about communicating the information extracted. the focus here is on getting the right information, in the right format, to the right people, at the right time.\n",
        "\n",
        "**4.1 Decide what type of report (frequency, outlet, and how to show the data)**\n",
        "\n",
        "**4.2 Starting with the question**\n",
        "\n",
        "**4.3 Using headlines**\n",
        "\n",
        "**4.4 Using effective visuals**\n",
        "\n",
        "**4.5 Using narratives to support visuals**\n",
        "\n",
        "**4.6 Getting the most out of self-service tools**"
      ],
      "metadata": {
        "id": "TZbk3Zie7o8D"
      }
    }
  ]
}